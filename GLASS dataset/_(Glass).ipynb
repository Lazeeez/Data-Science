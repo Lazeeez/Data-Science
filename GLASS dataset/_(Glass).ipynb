{
  "nbformat": 4,
  "nbformat_minor": 0,
  "metadata": {
    "colab": {
      "name": "Lab2 (Glass).ipynb",
      "provenance": [],
      "collapsed_sections": []
    },
    "kernelspec": {
      "name": "python3",
      "display_name": "Python 3"
    }
  },
  "cells": [
    {
      "cell_type": "code",
      "metadata": {
        "id": "zXGjItC9Q2Zr",
        "outputId": "691c4065-6d5a-46e5-c1e9-a78efaa82957",
        "colab": {
          "base_uri": "https://localhost:8080/",
          "height": 34
        }
      },
      "source": [
        "from google.colab import drive\n",
        "import pandas as pd\n",
        "import matplotlib.pyplot as plt\n",
        "\n",
        "drive.mount('/content/drive')"
      ],
      "execution_count": 21,
      "outputs": [
        {
          "output_type": "stream",
          "text": [
            "Drive already mounted at /content/drive; to attempt to forcibly remount, call drive.mount(\"/content/drive\", force_remount=True).\n"
          ],
          "name": "stdout"
        }
      ]
    },
    {
      "cell_type": "code",
      "metadata": {
        "id": "67cT5RkQTbYK",
        "outputId": "ee8f890c-1a7a-47d4-e7b8-c2ee7c5b19cc",
        "colab": {
          "base_uri": "https://localhost:8080/",
          "height": 402
        }
      },
      "source": [
        "data = pd.read_csv(\"/content/drive/My Drive/glass.csv\") \n",
        "data"
      ],
      "execution_count": 20,
      "outputs": [
        {
          "output_type": "execute_result",
          "data": {
            "text/html": [
              "<div>\n",
              "<style scoped>\n",
              "    .dataframe tbody tr th:only-of-type {\n",
              "        vertical-align: middle;\n",
              "    }\n",
              "\n",
              "    .dataframe tbody tr th {\n",
              "        vertical-align: top;\n",
              "    }\n",
              "\n",
              "    .dataframe thead th {\n",
              "        text-align: right;\n",
              "    }\n",
              "</style>\n",
              "<table border=\"1\" class=\"dataframe\">\n",
              "  <thead>\n",
              "    <tr style=\"text-align: right;\">\n",
              "      <th></th>\n",
              "      <th>RI</th>\n",
              "      <th>Na</th>\n",
              "      <th>Mg</th>\n",
              "      <th>Al</th>\n",
              "      <th>Si</th>\n",
              "      <th>K</th>\n",
              "      <th>Ca</th>\n",
              "      <th>Ba</th>\n",
              "      <th>Fe</th>\n",
              "      <th>Type</th>\n",
              "    </tr>\n",
              "  </thead>\n",
              "  <tbody>\n",
              "    <tr>\n",
              "      <th>0</th>\n",
              "      <td>1.52101</td>\n",
              "      <td>13.64</td>\n",
              "      <td>4.49</td>\n",
              "      <td>1.10</td>\n",
              "      <td>71.78</td>\n",
              "      <td>0.06</td>\n",
              "      <td>8.75</td>\n",
              "      <td>0.00</td>\n",
              "      <td>0.0</td>\n",
              "      <td>1</td>\n",
              "    </tr>\n",
              "    <tr>\n",
              "      <th>1</th>\n",
              "      <td>1.51761</td>\n",
              "      <td>13.89</td>\n",
              "      <td>3.60</td>\n",
              "      <td>1.36</td>\n",
              "      <td>72.73</td>\n",
              "      <td>0.48</td>\n",
              "      <td>7.83</td>\n",
              "      <td>0.00</td>\n",
              "      <td>0.0</td>\n",
              "      <td>1</td>\n",
              "    </tr>\n",
              "    <tr>\n",
              "      <th>2</th>\n",
              "      <td>1.51618</td>\n",
              "      <td>13.53</td>\n",
              "      <td>3.55</td>\n",
              "      <td>1.54</td>\n",
              "      <td>72.99</td>\n",
              "      <td>0.39</td>\n",
              "      <td>7.78</td>\n",
              "      <td>0.00</td>\n",
              "      <td>0.0</td>\n",
              "      <td>1</td>\n",
              "    </tr>\n",
              "    <tr>\n",
              "      <th>3</th>\n",
              "      <td>1.51766</td>\n",
              "      <td>13.21</td>\n",
              "      <td>3.69</td>\n",
              "      <td>1.29</td>\n",
              "      <td>72.61</td>\n",
              "      <td>0.57</td>\n",
              "      <td>8.22</td>\n",
              "      <td>0.00</td>\n",
              "      <td>0.0</td>\n",
              "      <td>1</td>\n",
              "    </tr>\n",
              "    <tr>\n",
              "      <th>4</th>\n",
              "      <td>1.51742</td>\n",
              "      <td>13.27</td>\n",
              "      <td>3.62</td>\n",
              "      <td>1.24</td>\n",
              "      <td>73.08</td>\n",
              "      <td>0.55</td>\n",
              "      <td>8.07</td>\n",
              "      <td>0.00</td>\n",
              "      <td>0.0</td>\n",
              "      <td>1</td>\n",
              "    </tr>\n",
              "    <tr>\n",
              "      <th>...</th>\n",
              "      <td>...</td>\n",
              "      <td>...</td>\n",
              "      <td>...</td>\n",
              "      <td>...</td>\n",
              "      <td>...</td>\n",
              "      <td>...</td>\n",
              "      <td>...</td>\n",
              "      <td>...</td>\n",
              "      <td>...</td>\n",
              "      <td>...</td>\n",
              "    </tr>\n",
              "    <tr>\n",
              "      <th>209</th>\n",
              "      <td>1.51623</td>\n",
              "      <td>14.14</td>\n",
              "      <td>0.00</td>\n",
              "      <td>2.88</td>\n",
              "      <td>72.61</td>\n",
              "      <td>0.08</td>\n",
              "      <td>9.18</td>\n",
              "      <td>1.06</td>\n",
              "      <td>0.0</td>\n",
              "      <td>7</td>\n",
              "    </tr>\n",
              "    <tr>\n",
              "      <th>210</th>\n",
              "      <td>1.51685</td>\n",
              "      <td>14.92</td>\n",
              "      <td>0.00</td>\n",
              "      <td>1.99</td>\n",
              "      <td>73.06</td>\n",
              "      <td>0.00</td>\n",
              "      <td>8.40</td>\n",
              "      <td>1.59</td>\n",
              "      <td>0.0</td>\n",
              "      <td>7</td>\n",
              "    </tr>\n",
              "    <tr>\n",
              "      <th>211</th>\n",
              "      <td>1.52065</td>\n",
              "      <td>14.36</td>\n",
              "      <td>0.00</td>\n",
              "      <td>2.02</td>\n",
              "      <td>73.42</td>\n",
              "      <td>0.00</td>\n",
              "      <td>8.44</td>\n",
              "      <td>1.64</td>\n",
              "      <td>0.0</td>\n",
              "      <td>7</td>\n",
              "    </tr>\n",
              "    <tr>\n",
              "      <th>212</th>\n",
              "      <td>1.51651</td>\n",
              "      <td>14.38</td>\n",
              "      <td>0.00</td>\n",
              "      <td>1.94</td>\n",
              "      <td>73.61</td>\n",
              "      <td>0.00</td>\n",
              "      <td>8.48</td>\n",
              "      <td>1.57</td>\n",
              "      <td>0.0</td>\n",
              "      <td>7</td>\n",
              "    </tr>\n",
              "    <tr>\n",
              "      <th>213</th>\n",
              "      <td>1.51711</td>\n",
              "      <td>14.23</td>\n",
              "      <td>0.00</td>\n",
              "      <td>2.08</td>\n",
              "      <td>73.36</td>\n",
              "      <td>0.00</td>\n",
              "      <td>8.62</td>\n",
              "      <td>1.67</td>\n",
              "      <td>0.0</td>\n",
              "      <td>7</td>\n",
              "    </tr>\n",
              "  </tbody>\n",
              "</table>\n",
              "<p>214 rows × 10 columns</p>\n",
              "</div>"
            ],
            "text/plain": [
              "          RI     Na    Mg    Al     Si     K    Ca    Ba   Fe  Type\n",
              "0    1.52101  13.64  4.49  1.10  71.78  0.06  8.75  0.00  0.0     1\n",
              "1    1.51761  13.89  3.60  1.36  72.73  0.48  7.83  0.00  0.0     1\n",
              "2    1.51618  13.53  3.55  1.54  72.99  0.39  7.78  0.00  0.0     1\n",
              "3    1.51766  13.21  3.69  1.29  72.61  0.57  8.22  0.00  0.0     1\n",
              "4    1.51742  13.27  3.62  1.24  73.08  0.55  8.07  0.00  0.0     1\n",
              "..       ...    ...   ...   ...    ...   ...   ...   ...  ...   ...\n",
              "209  1.51623  14.14  0.00  2.88  72.61  0.08  9.18  1.06  0.0     7\n",
              "210  1.51685  14.92  0.00  1.99  73.06  0.00  8.40  1.59  0.0     7\n",
              "211  1.52065  14.36  0.00  2.02  73.42  0.00  8.44  1.64  0.0     7\n",
              "212  1.51651  14.38  0.00  1.94  73.61  0.00  8.48  1.57  0.0     7\n",
              "213  1.51711  14.23  0.00  2.08  73.36  0.00  8.62  1.67  0.0     7\n",
              "\n",
              "[214 rows x 10 columns]"
            ]
          },
          "metadata": {
            "tags": []
          },
          "execution_count": 20
        }
      ]
    },
    {
      "cell_type": "code",
      "metadata": {
        "id": "XYdhiqjETqqY",
        "outputId": "8f3e07fe-c5d0-4620-9a99-bdf8b2206271",
        "colab": {
          "base_uri": "https://localhost:8080/",
          "height": 235
        }
      },
      "source": [
        "print (\"Dataset description\")\n",
        "print (data.columns)\n",
        "print (data.dtypes)"
      ],
      "execution_count": 7,
      "outputs": [
        {
          "output_type": "stream",
          "text": [
            "Dataset description\n",
            "Index(['RI', 'Na', 'Mg', 'Al', 'Si', 'K', 'Ca', 'Ba', 'Fe', 'Type'], dtype='object')\n",
            "RI      float64\n",
            "Na      float64\n",
            "Mg      float64\n",
            "Al      float64\n",
            "Si      float64\n",
            "K       float64\n",
            "Ca      float64\n",
            "Ba      float64\n",
            "Fe      float64\n",
            "Type      int64\n",
            "dtype: object\n"
          ],
          "name": "stdout"
        }
      ]
    },
    {
      "cell_type": "code",
      "metadata": {
        "id": "zkN7Et8_TthI",
        "outputId": "c6b2dac8-aada-461c-d3a9-4459bf73152c",
        "colab": {
          "base_uri": "https://localhost:8080/",
          "height": 874
        }
      },
      "source": [
        "print (\"print rows from 50 to 99\")\n",
        "print (data[50:99])"
      ],
      "execution_count": 8,
      "outputs": [
        {
          "output_type": "stream",
          "text": [
            "print rows from 50 to 99\n",
            "         RI     Na    Mg    Al     Si     K     Ca    Ba    Fe  Type\n",
            "50  1.52320  13.72  3.72  0.51  71.75  0.09  10.06  0.00  0.16     1\n",
            "51  1.51926  13.20  3.33  1.28  72.36  0.60   9.14  0.00  0.11     1\n",
            "52  1.51808  13.43  2.87  1.19  72.84  0.55   9.03  0.00  0.00     1\n",
            "53  1.51837  13.14  2.84  1.28  72.85  0.55   9.07  0.00  0.00     1\n",
            "54  1.51778  13.21  2.81  1.29  72.98  0.51   9.02  0.00  0.09     1\n",
            "55  1.51769  12.45  2.71  1.29  73.70  0.56   9.06  0.00  0.24     1\n",
            "56  1.51215  12.99  3.47  1.12  72.98  0.62   8.35  0.00  0.31     1\n",
            "57  1.51824  12.87  3.48  1.29  72.95  0.60   8.43  0.00  0.00     1\n",
            "58  1.51754  13.48  3.74  1.17  72.99  0.59   8.03  0.00  0.00     1\n",
            "59  1.51754  13.39  3.66  1.19  72.79  0.57   8.27  0.00  0.11     1\n",
            "60  1.51905  13.60  3.62  1.11  72.64  0.14   8.76  0.00  0.00     1\n",
            "61  1.51977  13.81  3.58  1.32  71.72  0.12   8.67  0.69  0.00     1\n",
            "62  1.52172  13.51  3.86  0.88  71.79  0.23   9.54  0.00  0.11     1\n",
            "63  1.52227  14.17  3.81  0.78  71.35  0.00   9.69  0.00  0.00     1\n",
            "64  1.52172  13.48  3.74  0.90  72.01  0.18   9.61  0.00  0.07     1\n",
            "65  1.52099  13.69  3.59  1.12  71.96  0.09   9.40  0.00  0.00     1\n",
            "66  1.52152  13.05  3.65  0.87  72.22  0.19   9.85  0.00  0.17     1\n",
            "67  1.52152  13.05  3.65  0.87  72.32  0.19   9.85  0.00  0.17     1\n",
            "68  1.52152  13.12  3.58  0.90  72.20  0.23   9.82  0.00  0.16     1\n",
            "69  1.52300  13.31  3.58  0.82  71.99  0.12  10.17  0.00  0.03     1\n",
            "70  1.51574  14.86  3.67  1.74  71.87  0.16   7.36  0.00  0.12     2\n",
            "71  1.51848  13.64  3.87  1.27  71.96  0.54   8.32  0.00  0.32     2\n",
            "72  1.51593  13.09  3.59  1.52  73.10  0.67   7.83  0.00  0.00     2\n",
            "73  1.51631  13.34  3.57  1.57  72.87  0.61   7.89  0.00  0.00     2\n",
            "74  1.51596  13.02  3.56  1.54  73.11  0.72   7.90  0.00  0.00     2\n",
            "75  1.51590  13.02  3.58  1.51  73.12  0.69   7.96  0.00  0.00     2\n",
            "76  1.51645  13.44  3.61  1.54  72.39  0.66   8.03  0.00  0.00     2\n",
            "77  1.51627  13.00  3.58  1.54  72.83  0.61   8.04  0.00  0.00     2\n",
            "78  1.51613  13.92  3.52  1.25  72.88  0.37   7.94  0.00  0.14     2\n",
            "79  1.51590  12.82  3.52  1.90  72.86  0.69   7.97  0.00  0.00     2\n",
            "80  1.51592  12.86  3.52  2.12  72.66  0.69   7.97  0.00  0.00     2\n",
            "81  1.51593  13.25  3.45  1.43  73.17  0.61   7.86  0.00  0.00     2\n",
            "82  1.51646  13.41  3.55  1.25  72.81  0.68   8.10  0.00  0.00     2\n",
            "83  1.51594  13.09  3.52  1.55  72.87  0.68   8.05  0.00  0.09     2\n",
            "84  1.51409  14.25  3.09  2.08  72.28  1.10   7.08  0.00  0.00     2\n",
            "85  1.51625  13.36  3.58  1.49  72.72  0.45   8.21  0.00  0.00     2\n",
            "86  1.51569  13.24  3.49  1.47  73.25  0.38   8.03  0.00  0.00     2\n",
            "87  1.51645  13.40  3.49  1.52  72.65  0.67   8.08  0.00  0.10     2\n",
            "88  1.51618  13.01  3.50  1.48  72.89  0.60   8.12  0.00  0.00     2\n",
            "89  1.51640  12.55  3.48  1.87  73.23  0.63   8.08  0.00  0.09     2\n",
            "90  1.51841  12.93  3.74  1.11  72.28  0.64   8.96  0.00  0.22     2\n",
            "91  1.51605  12.90  3.44  1.45  73.06  0.44   8.27  0.00  0.00     2\n",
            "92  1.51588  13.12  3.41  1.58  73.26  0.07   8.39  0.00  0.19     2\n",
            "93  1.51590  13.24  3.34  1.47  73.10  0.39   8.22  0.00  0.00     2\n",
            "94  1.51629  12.71  3.33  1.49  73.28  0.67   8.24  0.00  0.00     2\n",
            "95  1.51860  13.36  3.43  1.43  72.26  0.51   8.60  0.00  0.00     2\n",
            "96  1.51841  13.02  3.62  1.06  72.34  0.64   9.13  0.00  0.15     2\n",
            "97  1.51743  12.20  3.25  1.16  73.55  0.62   8.90  0.00  0.24     2\n",
            "98  1.51689  12.67  2.88  1.71  73.21  0.73   8.54  0.00  0.00     2\n"
          ],
          "name": "stdout"
        }
      ]
    },
    {
      "cell_type": "code",
      "metadata": {
        "id": "N2ft53ZHTzQw",
        "outputId": "a9f660f3-0e78-4cfe-8eca-687bf447e5a1",
        "colab": {
          "base_uri": "https://localhost:8080/",
          "height": 50
        }
      },
      "source": [
        "print (\"unique types (class attributes)\")\n",
        "print (data.Type.unique())"
      ],
      "execution_count": 10,
      "outputs": [
        {
          "output_type": "stream",
          "text": [
            "unique types (class attributes)\n",
            "[1 2 3 5 6 7]\n"
          ],
          "name": "stdout"
        }
      ]
    },
    {
      "cell_type": "code",
      "metadata": {
        "id": "GyQDGVYHT3Pg",
        "outputId": "38745fc8-66c3-414a-dd9b-eda1ef808ec6",
        "colab": {
          "base_uri": "https://localhost:8080/",
          "height": 269
        }
      },
      "source": [
        "print (\"Sorting in descending order on the basis of RI\")\n",
        "print (data.sort_values(\"RI\", ascending = False))"
      ],
      "execution_count": 11,
      "outputs": [
        {
          "output_type": "stream",
          "text": [
            "Sorting in descending order on the basis of RI\n",
            "          RI     Na    Mg    Al     Si     K     Ca    Ba    Fe  Type\n",
            "107  1.53393  12.30  0.00  1.00  70.16  0.12  16.19  0.00  0.24     2\n",
            "106  1.53125  10.73  0.00  2.10  69.81  0.58  13.30  3.15  0.28     2\n",
            "112  1.52777  12.64  0.00  0.67  72.02  0.06  14.40  0.00  0.00     2\n",
            "111  1.52739  11.02  0.00  0.75  73.08  0.00  14.96  0.00  0.00     2\n",
            "103  1.52725  13.80  3.15  0.66  70.57  0.08  11.64  0.00  0.00     2\n",
            "..       ...    ...   ...   ...    ...   ...    ...   ...   ...   ...\n",
            "171  1.51316  13.02  0.00  3.04  70.48  6.21   6.96  0.00  0.00     5\n",
            "180  1.51299  14.40  1.74  1.54  74.55  0.00   7.59  0.00  0.00     6\n",
            "56   1.51215  12.99  3.47  1.12  72.98  0.62   8.35  0.00  0.31     1\n",
            "185  1.51131  13.69  3.20  1.81  72.81  1.76   5.43  1.19  0.00     7\n",
            "184  1.51115  17.38  0.00  0.34  75.41  0.00   6.65  0.00  0.00     6\n",
            "\n",
            "[214 rows x 10 columns]\n"
          ],
          "name": "stdout"
        }
      ]
    },
    {
      "cell_type": "code",
      "metadata": {
        "id": "dDnn7RntUR4i"
      },
      "source": [
        "grouped = data.groupby('Type')"
      ],
      "execution_count": 12,
      "outputs": []
    },
    {
      "cell_type": "code",
      "metadata": {
        "id": "-Hx7QPCQUUlA",
        "outputId": "eaf15ccf-f8a8-412c-95c6-061482235b8a",
        "colab": {
          "base_uri": "https://localhost:8080/",
          "height": 202
        }
      },
      "source": [
        "print (\"MEAN\")\n",
        "print (grouped.mean())"
      ],
      "execution_count": 13,
      "outputs": [
        {
          "output_type": "stream",
          "text": [
            "MEAN\n",
            "            RI         Na        Mg  ...         Ca        Ba        Fe\n",
            "Type                                 ...                               \n",
            "1     1.518718  13.242286  3.552429  ...   8.797286  0.012714  0.057000\n",
            "2     1.518619  13.111711  3.002105  ...   9.073684  0.050263  0.079737\n",
            "3     1.517964  13.437059  3.543529  ...   8.782941  0.008824  0.057059\n",
            "5     1.518928  12.827692  0.773846  ...  10.123846  0.187692  0.060769\n",
            "6     1.517456  14.646667  1.305556  ...   9.356667  0.000000  0.000000\n",
            "7     1.517116  14.442069  0.538276  ...   8.491379  1.040000  0.013448\n",
            "\n",
            "[6 rows x 9 columns]\n"
          ],
          "name": "stdout"
        }
      ]
    },
    {
      "cell_type": "code",
      "metadata": {
        "id": "eH4VuF18UZ_4",
        "outputId": "54ed268c-abb3-4327-ab17-43963320d5d7",
        "colab": {
          "base_uri": "https://localhost:8080/",
          "height": 168
        }
      },
      "source": [
        "print (\"MEDIAN\")\n",
        "print (grouped.median())"
      ],
      "execution_count": 14,
      "outputs": [
        {
          "output_type": "stream",
          "text": [
            "MEDIAN\n",
            "            RI      Na     Mg    Al      Si     K      Ca    Ba   Fe\n",
            "Type                                                                \n",
            "1     1.517835  13.195  3.565  1.23  72.815  0.56   8.675  0.00  0.0\n",
            "2     1.517100  13.155  3.520  1.46  72.735  0.58   8.275  0.00  0.0\n",
            "3     1.517690  13.420  3.530  1.28  72.640  0.56   8.790  0.00  0.0\n",
            "5     1.519940  12.970  0.000  1.76  72.690  0.58  11.270  0.00  0.0\n",
            "6     1.518880  14.400  1.740  1.56  72.740  0.00   9.570  0.00  0.0\n",
            "7     1.516510  14.390  0.000  2.06  73.110  0.00   8.670  0.81  0.0\n"
          ],
          "name": "stdout"
        }
      ]
    },
    {
      "cell_type": "code",
      "metadata": {
        "id": "X9qNOacyUd4Y",
        "outputId": "90bcfb99-031d-43fe-9950-503c2f90f743",
        "colab": {
          "base_uri": "https://localhost:8080/",
          "height": 521
        }
      },
      "source": [
        "print (\"Filtering on the basis of type (2,5)\")\n",
        "print (data[data[\"Type\"]==2])\n",
        "print (\"----------------------------------------------------------------------\")\n",
        "print (data[data[\"Type\"]==5])"
      ],
      "execution_count": 15,
      "outputs": [
        {
          "output_type": "stream",
          "text": [
            "Filtering on the basis of type (2,5)\n",
            "          RI     Na    Mg    Al     Si     K    Ca    Ba    Fe  Type\n",
            "70   1.51574  14.86  3.67  1.74  71.87  0.16  7.36  0.00  0.12     2\n",
            "71   1.51848  13.64  3.87  1.27  71.96  0.54  8.32  0.00  0.32     2\n",
            "72   1.51593  13.09  3.59  1.52  73.10  0.67  7.83  0.00  0.00     2\n",
            "73   1.51631  13.34  3.57  1.57  72.87  0.61  7.89  0.00  0.00     2\n",
            "74   1.51596  13.02  3.56  1.54  73.11  0.72  7.90  0.00  0.00     2\n",
            "..       ...    ...   ...   ...    ...   ...   ...   ...   ...   ...\n",
            "141  1.51851  13.20  3.63  1.07  72.83  0.57  8.41  0.09  0.17     2\n",
            "142  1.51662  12.85  3.51  1.44  73.01  0.68  8.23  0.06  0.25     2\n",
            "143  1.51709  13.00  3.47  1.79  72.72  0.66  8.18  0.00  0.00     2\n",
            "144  1.51660  12.99  3.18  1.23  72.97  0.58  8.81  0.00  0.24     2\n",
            "145  1.51839  12.85  3.67  1.24  72.57  0.62  8.68  0.00  0.35     2\n",
            "\n",
            "[76 rows x 10 columns]\n",
            "----------------------------------------------------------------------\n",
            "          RI     Na    Mg    Al     Si     K     Ca    Ba    Fe  Type\n",
            "163  1.51514  14.01  2.68  3.50  69.89  1.68   5.87  2.20  0.00     5\n",
            "164  1.51915  12.73  1.85  1.86  72.69  0.60  10.09  0.00  0.00     5\n",
            "165  1.52171  11.56  1.88  1.56  72.86  0.47  11.41  0.00  0.00     5\n",
            "166  1.52151  11.03  1.71  1.56  73.44  0.58  11.62  0.00  0.00     5\n",
            "167  1.51969  12.64  0.00  1.65  73.75  0.38  11.53  0.00  0.00     5\n",
            "168  1.51666  12.86  0.00  1.83  73.88  0.97  10.17  0.00  0.00     5\n",
            "169  1.51994  13.27  0.00  1.76  73.03  0.47  11.32  0.00  0.00     5\n",
            "170  1.52369  13.44  0.00  1.58  72.22  0.32  12.24  0.00  0.00     5\n",
            "171  1.51316  13.02  0.00  3.04  70.48  6.21   6.96  0.00  0.00     5\n",
            "172  1.51321  13.00  0.00  3.02  70.70  6.21   6.93  0.00  0.00     5\n",
            "173  1.52043  13.38  0.00  1.40  72.25  0.33  12.50  0.00  0.00     5\n",
            "174  1.52058  12.85  1.61  2.17  72.18  0.76   9.70  0.24  0.51     5\n",
            "175  1.52119  12.97  0.33  1.51  73.39  0.13  11.27  0.00  0.28     5\n"
          ],
          "name": "stdout"
        }
      ]
    },
    {
      "cell_type": "code",
      "metadata": {
        "id": "IAEdYbw5U2Im",
        "outputId": "b3b3f46f-5fd7-41bc-8661-5c7e9d2d169c",
        "colab": {
          "base_uri": "https://localhost:8080/",
          "height": 279
        }
      },
      "source": [
        "plt.scatter(data[\"Type\"],data[\"Na\"], color = 'r')\n",
        "plt.scatter(data[\"Type\"],data[\"Al\"], color = 'g')\n",
        "plt.scatter(data[\"Type\"],data[\"Fe\"], color = 'b')\n",
        "plt.xlabel('Type')\n",
        "plt.ylabel('weight percent in corresponding oxide')\n",
        "plt.show()"
      ],
      "execution_count": 22,
      "outputs": [
        {
          "output_type": "display_data",
          "data": {
            "image/png": "[encoded data removed]",
            "text/plain": [
              "<Figure size 432x288 with 1 Axes>"
            ]
          },
          "metadata": {
            "tags": [],
            "needs_background": "light"
          }
        }
      ]
    },
    {
      "cell_type": "code",
      "metadata": {
        "id": "-Ed3TsmXUndw",
        "outputId": "3af859db-7167-42da-ce1a-a321912f9a64",
        "colab": {
          "base_uri": "https://localhost:8080/",
          "height": 418
        }
      },
      "source": [
        "print (\"Deleting Na, K\")\n",
        "data.drop('Na', axis = \"columns\", inplace = True)\n",
        "data.drop('K', axis = \"columns\", inplace = True)\n",
        "data"
      ],
      "execution_count": 19,
      "outputs": [
        {
          "output_type": "stream",
          "text": [
            "Deleting Na, K\n"
          ],
          "name": "stdout"
        },
        {
          "output_type": "execute_result",
          "data": {
            "text/html": [
              "<div>\n",
              "<style scoped>\n",
              "    .dataframe tbody tr th:only-of-type {\n",
              "        vertical-align: middle;\n",
              "    }\n",
              "\n",
              "    .dataframe tbody tr th {\n",
              "        vertical-align: top;\n",
              "    }\n",
              "\n",
              "    .dataframe thead th {\n",
              "        text-align: right;\n",
              "    }\n",
              "</style>\n",
              "<table border=\"1\" class=\"dataframe\">\n",
              "  <thead>\n",
              "    <tr style=\"text-align: right;\">\n",
              "      <th></th>\n",
              "      <th>RI</th>\n",
              "      <th>Mg</th>\n",
              "      <th>Al</th>\n",
              "      <th>Si</th>\n",
              "      <th>Ca</th>\n",
              "      <th>Ba</th>\n",
              "      <th>Fe</th>\n",
              "      <th>Type</th>\n",
              "    </tr>\n",
              "  </thead>\n",
              "  <tbody>\n",
              "    <tr>\n",
              "      <th>0</th>\n",
              "      <td>1.52101</td>\n",
              "      <td>4.49</td>\n",
              "      <td>1.10</td>\n",
              "      <td>71.78</td>\n",
              "      <td>8.75</td>\n",
              "      <td>0.00</td>\n",
              "      <td>0.0</td>\n",
              "      <td>1</td>\n",
              "    </tr>\n",
              "    <tr>\n",
              "      <th>1</th>\n",
              "      <td>1.51761</td>\n",
              "      <td>3.60</td>\n",
              "      <td>1.36</td>\n",
              "      <td>72.73</td>\n",
              "      <td>7.83</td>\n",
              "      <td>0.00</td>\n",
              "      <td>0.0</td>\n",
              "      <td>1</td>\n",
              "    </tr>\n",
              "    <tr>\n",
              "      <th>2</th>\n",
              "      <td>1.51618</td>\n",
              "      <td>3.55</td>\n",
              "      <td>1.54</td>\n",
              "      <td>72.99</td>\n",
              "      <td>7.78</td>\n",
              "      <td>0.00</td>\n",
              "      <td>0.0</td>\n",
              "      <td>1</td>\n",
              "    </tr>\n",
              "    <tr>\n",
              "      <th>3</th>\n",
              "      <td>1.51766</td>\n",
              "      <td>3.69</td>\n",
              "      <td>1.29</td>\n",
              "      <td>72.61</td>\n",
              "      <td>8.22</td>\n",
              "      <td>0.00</td>\n",
              "      <td>0.0</td>\n",
              "      <td>1</td>\n",
              "    </tr>\n",
              "    <tr>\n",
              "      <th>4</th>\n",
              "      <td>1.51742</td>\n",
              "      <td>3.62</td>\n",
              "      <td>1.24</td>\n",
              "      <td>73.08</td>\n",
              "      <td>8.07</td>\n",
              "      <td>0.00</td>\n",
              "      <td>0.0</td>\n",
              "      <td>1</td>\n",
              "    </tr>\n",
              "    <tr>\n",
              "      <th>...</th>\n",
              "      <td>...</td>\n",
              "      <td>...</td>\n",
              "      <td>...</td>\n",
              "      <td>...</td>\n",
              "      <td>...</td>\n",
              "      <td>...</td>\n",
              "      <td>...</td>\n",
              "      <td>...</td>\n",
              "    </tr>\n",
              "    <tr>\n",
              "      <th>209</th>\n",
              "      <td>1.51623</td>\n",
              "      <td>0.00</td>\n",
              "      <td>2.88</td>\n",
              "      <td>72.61</td>\n",
              "      <td>9.18</td>\n",
              "      <td>1.06</td>\n",
              "      <td>0.0</td>\n",
              "      <td>7</td>\n",
              "    </tr>\n",
              "    <tr>\n",
              "      <th>210</th>\n",
              "      <td>1.51685</td>\n",
              "      <td>0.00</td>\n",
              "      <td>1.99</td>\n",
              "      <td>73.06</td>\n",
              "      <td>8.40</td>\n",
              "      <td>1.59</td>\n",
              "      <td>0.0</td>\n",
              "      <td>7</td>\n",
              "    </tr>\n",
              "    <tr>\n",
              "      <th>211</th>\n",
              "      <td>1.52065</td>\n",
              "      <td>0.00</td>\n",
              "      <td>2.02</td>\n",
              "      <td>73.42</td>\n",
              "      <td>8.44</td>\n",
              "      <td>1.64</td>\n",
              "      <td>0.0</td>\n",
              "      <td>7</td>\n",
              "    </tr>\n",
              "    <tr>\n",
              "      <th>212</th>\n",
              "      <td>1.51651</td>\n",
              "      <td>0.00</td>\n",
              "      <td>1.94</td>\n",
              "      <td>73.61</td>\n",
              "      <td>8.48</td>\n",
              "      <td>1.57</td>\n",
              "      <td>0.0</td>\n",
              "      <td>7</td>\n",
              "    </tr>\n",
              "    <tr>\n",
              "      <th>213</th>\n",
              "      <td>1.51711</td>\n",
              "      <td>0.00</td>\n",
              "      <td>2.08</td>\n",
              "      <td>73.36</td>\n",
              "      <td>8.62</td>\n",
              "      <td>1.67</td>\n",
              "      <td>0.0</td>\n",
              "      <td>7</td>\n",
              "    </tr>\n",
              "  </tbody>\n",
              "</table>\n",
              "<p>214 rows × 8 columns</p>\n",
              "</div>"
            ],
            "text/plain": [
              "          RI    Mg    Al     Si    Ca    Ba   Fe  Type\n",
              "0    1.52101  4.49  1.10  71.78  8.75  0.00  0.0     1\n",
              "1    1.51761  3.60  1.36  72.73  7.83  0.00  0.0     1\n",
              "2    1.51618  3.55  1.54  72.99  7.78  0.00  0.0     1\n",
              "3    1.51766  3.69  1.29  72.61  8.22  0.00  0.0     1\n",
              "4    1.51742  3.62  1.24  73.08  8.07  0.00  0.0     1\n",
              "..       ...   ...   ...    ...   ...   ...  ...   ...\n",
              "209  1.51623  0.00  2.88  72.61  9.18  1.06  0.0     7\n",
              "210  1.51685  0.00  1.99  73.06  8.40  1.59  0.0     7\n",
              "211  1.52065  0.00  2.02  73.42  8.44  1.64  0.0     7\n",
              "212  1.51651  0.00  1.94  73.61  8.48  1.57  0.0     7\n",
              "213  1.51711  0.00  2.08  73.36  8.62  1.67  0.0     7\n",
              "\n",
              "[214 rows x 8 columns]"
            ]
          },
          "metadata": {
            "tags": []
          },
          "execution_count": 19
        }
      ]
    }
  ]
}